{
 "cells": [
  {
   "cell_type": "markdown",
   "id": "8bffaa4a-b3c2-455c-bd60-4719930ec1f3",
   "metadata": {
    "tags": []
   },
   "source": [
    "## Prompt Tuning For E2E Table-to-Text Generation\n",
    "\n",
    "Fine-tune a pre-trained GPT2 model for E2E table-to-text natrual language generation task using prompt tuning. E2E Dataset is used to measure the model's ability to generate coherent natural language from structured data (like tables or key-value pairs)."
   ]
  },
  {
   "cell_type": "markdown",
   "id": "9b6e9628-46b6-4e46-a454-4bed5b62f175",
   "metadata": {},
   "source": [
    "#### Load E2E Dataset"
   ]
  },
  {
   "cell_type": "code",
   "execution_count": 1,
   "id": "d2d873a2-3ca7-4709-995c-fb6b0852944b",
   "metadata": {
    "tags": []
   },
   "outputs": [],
   "source": [
    "from datasets import load_dataset"
   ]
  },
  {
   "cell_type": "code",
   "execution_count": 2,
   "id": "b1095ad2-86a4-48d8-8727-432b2ccc2108",
   "metadata": {
    "tags": []
   },
   "outputs": [],
   "source": [
    "dataset = load_dataset('e2e_nlg')"
   ]
  },
  {
   "cell_type": "code",
   "execution_count": 3,
   "id": "5f27a673-ce00-4090-969e-4559f9deb546",
   "metadata": {
    "tags": []
   },
   "outputs": [
    {
     "data": {
      "text/plain": [
       "DatasetDict({\n",
       "    train: Dataset({\n",
       "        features: ['meaning_representation', 'human_reference'],\n",
       "        num_rows: 42061\n",
       "    })\n",
       "    validation: Dataset({\n",
       "        features: ['meaning_representation', 'human_reference'],\n",
       "        num_rows: 4672\n",
       "    })\n",
       "    test: Dataset({\n",
       "        features: ['meaning_representation', 'human_reference'],\n",
       "        num_rows: 4693\n",
       "    })\n",
       "})"
      ]
     },
     "execution_count": 3,
     "metadata": {},
     "output_type": "execute_result"
    }
   ],
   "source": [
    "dataset"
   ]
  },
  {
   "cell_type": "markdown",
   "id": "6b6dda2a-7da5-498e-96f2-14bddd9688c3",
   "metadata": {},
   "source": [
    "Each record contains two attributes: meaning_representation(MR) and human_reference(HR)."
   ]
  },
  {
   "cell_type": "code",
   "execution_count": 4,
   "id": "a7fbb730-6fc9-4072-bda3-8fa31f8ae59f",
   "metadata": {
    "tags": []
   },
   "outputs": [
    {
     "name": "stdout",
     "output_type": "stream",
     "text": [
      "{'meaning_representation': 'name[The Vaults], eatType[pub], priceRange[more than £30], customer rating[5 out of 5], near[Café Adriatic]', 'human_reference': 'The Vaults pub near Café Adriatic has a 5 star rating.  Prices start at £30.'}\n"
     ]
    }
   ],
   "source": [
    "sample = dataset['train'][0]\n",
    "print(sample)"
   ]
  },
  {
   "cell_type": "markdown",
   "id": "526a74fd-0ef8-4743-a66f-cdb902047641",
   "metadata": {},
   "source": [
    "#### Load Model"
   ]
  },
  {
   "cell_type": "code",
   "execution_count": 5,
   "id": "b609959c-6e39-4114-b84f-b34750cdefcc",
   "metadata": {
    "tags": []
   },
   "outputs": [
    {
     "name": "stderr",
     "output_type": "stream",
     "text": [
      "/opt/app/conda/lib/python3.10/site-packages/torchvision/datapoints/__init__.py:12: UserWarning: The torchvision.datapoints and torchvision.transforms.v2 namespaces are still Beta. While we do not expect major breaking changes, some APIs may still change according to user feedback. Please submit any feedback you may have in this issue: https://github.com/pytorch/vision/issues/6753, and you can also check out https://github.com/pytorch/vision/issues/7319 to learn more about the APIs that we suspect might involve future changes. You can silence this warning by calling torchvision.disable_beta_transforms_warning().\n",
      "  warnings.warn(_BETA_TRANSFORMS_WARNING)\n",
      "/opt/app/conda/lib/python3.10/site-packages/torchvision/transforms/v2/__init__.py:54: UserWarning: The torchvision.datapoints and torchvision.transforms.v2 namespaces are still Beta. While we do not expect major breaking changes, some APIs may still change according to user feedback. Please submit any feedback you may have in this issue: https://github.com/pytorch/vision/issues/6753, and you can also check out https://github.com/pytorch/vision/issues/7319 to learn more about the APIs that we suspect might involve future changes. You can silence this warning by calling torchvision.disable_beta_transforms_warning().\n",
      "  warnings.warn(_BETA_TRANSFORMS_WARNING)\n"
     ]
    }
   ],
   "source": [
    "from transformers import AutoTokenizer\n",
    "from model_tuning import PromptTuningGPT2\n",
    "\n",
    "tokenizer = AutoTokenizer.from_pretrained('gpt2')\n",
    "\n",
    "model = PromptTuningGPT2(\n",
    "    gpt2_model='gpt2',\n",
    "    num_prompt_tokens=30\n",
    ")"
   ]
  },
  {
   "cell_type": "code",
   "execution_count": 6,
   "id": "692e5013-4428-4284-9831-bb40929e8332",
   "metadata": {
    "tags": []
   },
   "outputs": [
    {
     "name": "stdout",
     "output_type": "stream",
     "text": [
      "PromptTuningGPT2(\n",
      "  (gpt2): GPT2LMHeadModel(\n",
      "    (transformer): GPT2Model(\n",
      "      (wte): Embedding(50257, 768)\n",
      "      (wpe): Embedding(1024, 768)\n",
      "      (drop): Dropout(p=0.1, inplace=False)\n",
      "      (h): ModuleList(\n",
      "        (0-11): 12 x GPT2Block(\n",
      "          (ln_1): LayerNorm((768,), eps=1e-05, elementwise_affine=True)\n",
      "          (attn): GPT2Attention(\n",
      "            (c_attn): Conv1D(nf=2304, nx=768)\n",
      "            (c_proj): Conv1D(nf=768, nx=768)\n",
      "            (attn_dropout): Dropout(p=0.1, inplace=False)\n",
      "            (resid_dropout): Dropout(p=0.1, inplace=False)\n",
      "          )\n",
      "          (ln_2): LayerNorm((768,), eps=1e-05, elementwise_affine=True)\n",
      "          (mlp): GPT2MLP(\n",
      "            (c_fc): Conv1D(nf=3072, nx=768)\n",
      "            (c_proj): Conv1D(nf=768, nx=3072)\n",
      "            (act): NewGELUActivation()\n",
      "            (dropout): Dropout(p=0.1, inplace=False)\n",
      "          )\n",
      "        )\n",
      "      )\n",
      "      (ln_f): LayerNorm((768,), eps=1e-05, elementwise_affine=True)\n",
      "    )\n",
      "    (lm_head): Linear(in_features=768, out_features=50257, bias=False)\n",
      "  )\n",
      "  (prompt_encoder): PromptEncoder(\n",
      "    (prompt_embeddings): Embedding(30, 768)\n",
      "  )\n",
      ")\n"
     ]
    }
   ],
   "source": [
    "print(model)"
   ]
  },
  {
   "cell_type": "markdown",
   "id": "f336e3ab-0e33-4e0d-9d0e-0f4d3110eed9",
   "metadata": {},
   "source": [
    "#### Preprocess Dataset\n",
    "Tokenize input sequences and generate labels for training."
   ]
  },
  {
   "cell_type": "code",
   "execution_count": 7,
   "id": "77eae2c9-0af2-4f87-8ea4-73bffe1a6392",
   "metadata": {
    "tags": []
   },
   "outputs": [
    {
     "data": {
      "application/vnd.jupyter.widget-view+json": {
       "model_id": "fefac00141154bb7a12f12701dfc6bc2",
       "version_major": 2,
       "version_minor": 0
      },
      "text/plain": [
       "Map:   0%|          | 0/4693 [00:00<?, ? examples/s]"
      ]
     },
     "metadata": {},
     "output_type": "display_data"
    }
   ],
   "source": [
    "def preprocess(sample):\n",
    "    model_inputs = tokenizer(sample['meaning_representation'])\n",
    "    labels = tokenizer(sample['meaning_representation'] + sample['human_reference'], padding=\"max_length\", truncation=True, max_length=512)\n",
    "    \n",
    "    # print(len(model_inputs['input_ids'][0]))\n",
    "    # labels[\"labels\"] = labels['input_ids']\n",
    "    labels['labels'] = labels['input_ids'].copy()\n",
    "    labels['labels'][:len(model_inputs['input_ids'])] = [-100] * len(model_inputs['input_ids'])\n",
    "    labels['labels'] = [-100 if token == tokenizer.pad_token_id else token for token in labels['labels']]\n",
    "    return labels\n",
    "\n",
    "# tokenizer.add_special_tokens({'pad_token': '[PAD]'})\n",
    "tokenizer.pad_token = tokenizer.eos_token\n",
    "tokenized_dataset = dataset.map(preprocess)\n",
    "\n",
    "train_dataset = tokenized_dataset['train']\n",
    "val_dataset = tokenized_dataset['validation']\n",
    "test_dataset = tokenized_dataset['test']"
   ]
  },
  {
   "cell_type": "code",
   "execution_count": 8,
   "id": "314038d4-6f71-4de8-ac69-0b749959a8d4",
   "metadata": {
    "tags": []
   },
   "outputs": [],
   "source": [
    "# print(train_dataset[0])"
   ]
  },
  {
   "cell_type": "markdown",
   "id": "166107e8-c3e9-43d9-afe0-ebcab79143fa",
   "metadata": {},
   "source": [
    "#### Test Forward Prop"
   ]
  },
  {
   "cell_type": "code",
   "execution_count": 9,
   "id": "759a4ca9-286c-4da7-bb56-477104e48bc0",
   "metadata": {
    "tags": []
   },
   "outputs": [],
   "source": [
    "import torch\n",
    "import torch.nn as nn\n",
    "\n",
    "input_ids = torch.tensor(train_dataset[0]['input_ids']).unsqueeze(0)\n",
    "labels = torch.tensor(train_dataset[0]['labels']).unsqueeze(0)\n",
    "attention_mask = torch.tensor(train_dataset[0]['attention_mask']).unsqueeze(0)"
   ]
  },
  {
   "cell_type": "code",
   "execution_count": 10,
   "id": "b70bfd37-461a-4125-bce9-4a02828cfe99",
   "metadata": {
    "tags": []
   },
   "outputs": [
    {
     "name": "stdout",
     "output_type": "stream",
     "text": [
      "torch.Size([1, 512])\n"
     ]
    }
   ],
   "source": [
    "print(labels.shape)"
   ]
  },
  {
   "cell_type": "code",
   "execution_count": 12,
   "id": "74a6e94b-80cd-49e5-a524-a3ef14a862c7",
   "metadata": {
    "tags": []
   },
   "outputs": [
    {
     "name": "stdout",
     "output_type": "stream",
     "text": [
      "torch.Size([1, 512, 50257])\n",
      "tensor(3.7670, grad_fn=<NllLossBackward0>)\n",
      "tensor(3.7670, grad_fn=<NllLossBackward0>)\n"
     ]
    }
   ],
   "source": [
    "outputs = model(input_ids=input_ids,\n",
    "                attention_mask=attention_mask,\n",
    "                labels=labels\n",
    "               )\n",
    "\n",
    "# print(outputs.logits)\n",
    "# print(labels)\n",
    "loss_func = nn.CrossEntropyLoss(ignore_index=-100, reduction=\"mean\")\n",
    "logits = outputs.logits[:,30:]\n",
    "print(logits.shape)\n",
    "# loss = loss_func(logits.view(-1, logits.shape[-1]), labels.view(-1))\n",
    "# Shift so that tokens < n predict n\n",
    "shift_logits = logits[..., :-1, :].contiguous()\n",
    "shift_labels = labels[..., 1:].contiguous()\n",
    "# Flatten the tokens\n",
    "loss_fct = nn.CrossEntropyLoss(ignore_index=-100)\n",
    "loss = loss_fct(shift_logits.view(-1, shift_logits.size(-1)), shift_labels.view(-1))\n",
    "print(loss)\n",
    "print(outputs.loss)"
   ]
  },
  {
   "cell_type": "code",
   "execution_count": 13,
   "id": "294eef4f-4f3b-46ea-8aa9-edbc8e061c3f",
   "metadata": {
    "tags": []
   },
   "outputs": [
    {
     "name": "stdout",
     "output_type": "stream",
     "text": [
      "torch.Size([1, 512, 50257])\n"
     ]
    }
   ],
   "source": [
    "print(outputs.logits[:, 30:].shape)"
   ]
  },
  {
   "cell_type": "markdown",
   "id": "62bebf29-9359-45ba-ab2c-7e2f99fefc95",
   "metadata": {},
   "source": [
    "#### Training"
   ]
  },
  {
   "cell_type": "code",
   "execution_count": 14,
   "id": "f281c335-5d8e-4af4-b605-24152d21ee8e",
   "metadata": {
    "tags": []
   },
   "outputs": [
    {
     "name": "stderr",
     "output_type": "stream",
     "text": [
      "/opt/app/conda/lib/python3.10/site-packages/transformers/training_args.py:1575: FutureWarning: `evaluation_strategy` is deprecated and will be removed in version 4.46 of 🤗 Transformers. Use `eval_strategy` instead\n",
      "  warnings.warn(\n",
      "Detected kernel version 4.19.118, which is below the recommended minimum of 5.5.0; this can cause the process to hang. It is recommended to upgrade the kernel to the minimum version or higher.\n"
     ]
    }
   ],
   "source": [
    "from transformers import TrainingArguments, Trainer\n",
    "\n",
    "model.gpt2.tie_weights()\n",
    "training_args = TrainingArguments(\n",
    "    output_dir='./result',\n",
    "    evaluation_strategy=\"epoch\",\n",
    "    save_strategy=\"no\",\n",
    "    learning_rate=2e-5,\n",
    "    per_device_train_batch_size=8,\n",
    "    per_device_eval_batch_size=8,\n",
    "    num_train_epochs=5,\n",
    "    weight_decay=0.01\n",
    ")\n",
    "\n",
    "trainer = Trainer(\n",
    "    model=model,\n",
    "    args=training_args,\n",
    "    train_dataset=train_dataset,\n",
    "    eval_dataset=val_dataset\n",
    ")"
   ]
  },
  {
   "cell_type": "code",
   "execution_count": 15,
   "id": "fe0d8d86-3bcf-47a4-9032-c6c47e56756f",
   "metadata": {
    "tags": []
   },
   "outputs": [
    {
     "data": {
      "text/html": [
       "\n",
       "    <div>\n",
       "      \n",
       "      <progress value='26290' max='26290' style='width:300px; height:20px; vertical-align: middle;'></progress>\n",
       "      [26290/26290 2:23:32, Epoch 5/5]\n",
       "    </div>\n",
       "    <table border=\"1\" class=\"dataframe\">\n",
       "  <thead>\n",
       " <tr style=\"text-align: left;\">\n",
       "      <th>Epoch</th>\n",
       "      <th>Training Loss</th>\n",
       "      <th>Validation Loss</th>\n",
       "    </tr>\n",
       "  </thead>\n",
       "  <tbody>\n",
       "    <tr>\n",
       "      <td>1</td>\n",
       "      <td>3.259000</td>\n",
       "      <td>2.954715</td>\n",
       "    </tr>\n",
       "    <tr>\n",
       "      <td>2</td>\n",
       "      <td>3.055000</td>\n",
       "      <td>2.760785</td>\n",
       "    </tr>\n",
       "    <tr>\n",
       "      <td>3</td>\n",
       "      <td>2.902200</td>\n",
       "      <td>2.608299</td>\n",
       "    </tr>\n",
       "    <tr>\n",
       "      <td>4</td>\n",
       "      <td>2.837300</td>\n",
       "      <td>2.526614</td>\n",
       "    </tr>\n",
       "    <tr>\n",
       "      <td>5</td>\n",
       "      <td>2.806400</td>\n",
       "      <td>2.508093</td>\n",
       "    </tr>\n",
       "  </tbody>\n",
       "</table><p>"
      ],
      "text/plain": [
       "<IPython.core.display.HTML object>"
      ]
     },
     "metadata": {},
     "output_type": "display_data"
    },
    {
     "data": {
      "text/plain": [
       "TrainOutput(global_step=26290, training_loss=3.041134145569103, metrics={'train_runtime': 8613.4121, 'train_samples_per_second': 24.416, 'train_steps_per_second': 3.052, 'total_flos': 0.0, 'train_loss': 3.041134145569103, 'epoch': 5.0})"
      ]
     },
     "execution_count": 15,
     "metadata": {},
     "output_type": "execute_result"
    }
   ],
   "source": [
    "trainer.train()"
   ]
  },
  {
   "cell_type": "markdown",
   "id": "4363bd6b-cd09-4605-badb-73a7cbd69122",
   "metadata": {},
   "source": [
    "#### Save Model Weights\n",
    "Only learned prompt embeddings are saved."
   ]
  },
  {
   "cell_type": "code",
   "execution_count": 16,
   "id": "4dd1a61a-9a5c-42d7-9a38-3ecd96b1358b",
   "metadata": {
    "tags": []
   },
   "outputs": [],
   "source": [
    "save_path = \"./result/learned_prompts.model\"\n",
    "\n",
    "model.save_learned_prompts(save_path)"
   ]
  },
  {
   "cell_type": "code",
   "execution_count": 20,
   "id": "8ab751d7-86cc-4fab-b4e4-1da6a750b71d",
   "metadata": {
    "tags": []
   },
   "outputs": [
    {
     "name": "stdout",
     "output_type": "stream",
     "text": [
      "{'meaning_representation': 'name[Blue Spice], eatType[coffee shop], area[city centre]', 'output_text': 'name[Blue Spice], eatType[coffee shop], area[city centre]Blue Spice is a coffee shop located in Blue Spice. Blue Spice is a coffee shop located in Blue Spice. Blue Spice is a coffee shop located in Blue Spice. Blue Spice is a coffee shop located in Blue Spice. Blue Spice is a coffee shop', 'ground_truth': 'A coffee shop in the city centre area called Blue Spice.'}\n",
      "{'meaning_representation': 'name[Blue Spice], eatType[coffee shop], area[city centre]', 'output_text': 'name[Blue Spice], eatType[coffee shop], area[city centre]Blue Spice is a coffee shop located in Blue Spice. Blue Spice is a coffee shop located in Blue Spice. Blue Spice is a coffee shop located in Blue Spice. Blue Spice is a coffee shop located in Blue Spice. Blue Spice is a coffee shop', 'ground_truth': 'Blue Spice is a coffee shop in city centre.'}\n",
      "{'meaning_representation': 'name[Blue Spice], eatType[coffee shop], area[riverside]', 'output_text': 'name[Blue Spice], eatType[coffee shop], area[riverside]Blue Spice is a coffee shop located in the Blue Spice area of the city. Blue Spice is a coffee shop located in the Blue Spice area of the city. Blue Spice is a coffee shop located in the Blue Spice area of the city. Blue Spice', 'ground_truth': 'There is a coffee shop Blue Spice in the riverside area.'}\n",
      "{'meaning_representation': 'name[Blue Spice], eatType[coffee shop], area[riverside]', 'output_text': 'name[Blue Spice], eatType[coffee shop], area[riverside]Blue Spice is a coffee shop located in the Blue Spice area of the city. Blue Spice is a coffee shop located in the Blue Spice area of the city. Blue Spice is a coffee shop located in the Blue Spice area of the city. Blue Spice', 'ground_truth': 'At the riverside, there is a coffee shop called The Blue Spice.'}\n",
      "{'meaning_representation': 'name[Blue Spice], eatType[coffee shop], customer rating[5 out of 5], near[Crowne Plaza Hotel]', 'output_text': 'name[Blue Spice], eatType[coffee shop], customer rating[5 out of 5], near[Crowne Plaza Hotel]Blue Spice is a coffee shop located in Crowne Plaza Hotel. Blue Spice is a coffee shop located in Crowne Plaza Hotel. Blue Spice is a coffee shop located in Crowne Plaza Hotel.\\n\\nBlue Spice is a coffee shop located in Crown', 'ground_truth': 'The coffee shop Blue Spice is based near Crowne Plaza Hotel and has a high customer rating of 5 out of 5.'}\n",
      "{'meaning_representation': 'name[Blue Spice], eatType[coffee shop], customer rating[5 out of 5], near[Crowne Plaza Hotel]', 'output_text': 'name[Blue Spice], eatType[coffee shop], customer rating[5 out of 5], near[Crowne Plaza Hotel]Blue Spice is a coffee shop located in Crowne Plaza Hotel. Blue Spice is a coffee shop located in Crowne Plaza Hotel. Blue Spice is a coffee shop located in Crowne Plaza Hotel.\\n\\nBlue Spice is a coffee shop located in Crown', 'ground_truth': 'The Blue Spice coffee shop, near Crowne Plaza Hotel, has a customer rating of 5 out of 5.'}\n",
      "{'meaning_representation': 'name[Blue Spice], eatType[coffee shop], customer rating[5 out of 5], near[Crowne Plaza Hotel]', 'output_text': 'name[Blue Spice], eatType[coffee shop], customer rating[5 out of 5], near[Crowne Plaza Hotel]Blue Spice is a coffee shop located in Crowne Plaza Hotel. Blue Spice is a coffee shop located in Crowne Plaza Hotel. Blue Spice is a coffee shop located in Crowne Plaza Hotel.\\n\\nBlue Spice is a coffee shop located in Crown', 'ground_truth': 'If you want a coffee shop rated 5 out of 5 pick Blue Spice. It is located near Crowne Plaza Hotel.'}\n",
      "{'meaning_representation': 'name[Blue Spice], eatType[coffee shop], customer rating[average], near[Burger King]', 'output_text': 'name[Blue Spice], eatType[coffee shop], customer rating[average], near[Burger King]Blue Spice is a coffee shop that offers a variety of coffee and tea. Blue Spice is located in the heart of the city of Burger King. Blue Spice is a popular coffee shop that offers a variety of coffee and tea. Blue Spice is located', 'ground_truth': 'Burger King is near the coffee shop Blue Spice which has an average customer rating.'}\n",
      "{'meaning_representation': 'name[Blue Spice], eatType[coffee shop], customer rating[average], near[Burger King]', 'output_text': 'name[Blue Spice], eatType[coffee shop], customer rating[average], near[Burger King]Blue Spice is a coffee shop that offers a variety of coffee and tea. Blue Spice is located in the heart of the city of Burger King. Blue Spice is a popular coffee shop that offers a variety of coffee and tea. Blue Spice is located', 'ground_truth': 'The Blue Spice coffee shop near Burger King has good customer ratings with excellent food and service, with a lovely atmosphere.'}\n",
      "{'meaning_representation': 'name[Blue Spice], eatType[coffee shop], customer rating[average], near[Burger King]', 'output_text': 'name[Blue Spice], eatType[coffee shop], customer rating[average], near[Burger King]Blue Spice is a coffee shop that offers a variety of coffee and tea. Blue Spice is located in the heart of the city of Burger King. Blue Spice is a popular coffee shop that offers a variety of coffee and tea. Blue Spice is located', 'ground_truth': 'Average customer rating coffee shop include Blue Spice near Burger King.'}\n"
     ]
    }
   ],
   "source": [
    "for idx in range(10):\n",
    "    input_text = test_dataset[idx]['meaning_representation']\n",
    "    # print(input_text)\n",
    "    inputs = tokenizer(input_text, return_tensors=\"pt\").to('cuda')\n",
    "    # print(inputs)\n",
    "    \n",
    "    for _ in range(50):\n",
    "        outputs = model(**inputs, labels=inputs['input_ids'])\n",
    "        logits = outputs.logits[0][-1,:]\n",
    "        probs = nn.functional.softmax(logits, dim=-1)\n",
    "        _, next_chr = torch.topk(probs, k=1, dim=-1)\n",
    "        inputs['input_ids'] = torch.cat((inputs['input_ids'], next_chr.unsqueeze(0)), dim=-1)\n",
    "        inputs['attention_mask'] = torch.cat((inputs['attention_mask'], torch.tensor([[1]]).to('cuda')), dim=-1)\n",
    "    \n",
    "    output_text = tokenizer.decode(inputs['input_ids'][0], skip_special_tokens=True)\n",
    "    print({\"meaning_representation\": input_text, \n",
    "           \"output_text\": output_text,\n",
    "           \"ground_truth\": test_dataset[idx]['human_reference']}\n",
    "         )"
   ]
  },
  {
   "cell_type": "markdown",
   "id": "3dbdf772-9583-4c8c-9213-334324ab65e3",
   "metadata": {},
   "source": [
    "#### Compare Finetuned Model with Pre-trained Model"
   ]
  },
  {
   "cell_type": "code",
   "execution_count": 18,
   "id": "64c541d9-f46e-4258-b2df-9af55d57bae1",
   "metadata": {
    "tags": []
   },
   "outputs": [
    {
     "name": "stderr",
     "output_type": "stream",
     "text": [
      "Setting `pad_token_id` to `eos_token_id`:50256 for open-end generation.\n",
      "Setting `pad_token_id` to `eos_token_id`:50256 for open-end generation.\n"
     ]
    },
    {
     "name": "stdout",
     "output_type": "stream",
     "text": [
      "{'meaning_representation': 'name[Blue Spice], eatType[coffee shop], area[city centre]', 'output_text': 'name[Blue Spice], eatType[coffee shop], area[city centre] = \"blue\"\\n\\nif not area[city centre] then\\n\\nreturn\\n\\nelseif not area[city centre] then\\n\\nreturn\\n\\nend\\n\\nend\\n\\nend\\n\\nend\\n\\nend\\n\\nfunction getArea(area)\\n\\nlocal area = area[0]\\n\\nlocal area = area[1]\\n\\nlocal area = area[2]\\n\\nlocal area = area[3]\\n\\nlocal area = area[4]\\n\\nlocal area = area[5]\\n\\nlocal area = area[6]\\n\\nlocal area = area[7]\\n\\nlocal area = area[', 'ground_truth': 'A coffee shop in the city centre area called Blue Spice.'}\n"
     ]
    },
    {
     "name": "stderr",
     "output_type": "stream",
     "text": [
      "Setting `pad_token_id` to `eos_token_id`:50256 for open-end generation.\n"
     ]
    },
    {
     "name": "stdout",
     "output_type": "stream",
     "text": [
      "{'meaning_representation': 'name[Blue Spice], eatType[coffee shop], area[city centre]', 'output_text': 'name[Blue Spice], eatType[coffee shop], area[city centre] = \"blue\"\\n\\nif not area[city centre] then\\n\\nreturn\\n\\nelseif not area[city centre] then\\n\\nreturn\\n\\nend\\n\\nend\\n\\nend\\n\\nend\\n\\nend\\n\\nfunction getArea(area)\\n\\nlocal area = area[0]\\n\\nlocal area = area[1]\\n\\nlocal area = area[2]\\n\\nlocal area = area[3]\\n\\nlocal area = area[4]\\n\\nlocal area = area[5]\\n\\nlocal area = area[6]\\n\\nlocal area = area[7]\\n\\nlocal area = area[', 'ground_truth': 'Blue Spice is a coffee shop in city centre.'}\n"
     ]
    },
    {
     "name": "stderr",
     "output_type": "stream",
     "text": [
      "Setting `pad_token_id` to `eos_token_id`:50256 for open-end generation.\n"
     ]
    },
    {
     "name": "stdout",
     "output_type": "stream",
     "text": [
      "{'meaning_representation': 'name[Blue Spice], eatType[coffee shop], area[riverside]', 'output_text': 'name[Blue Spice], eatType[coffee shop], area[riverside] = \"blue\"\\n\\nif not area[riverside] then\\n\\nbreak\\n\\nend\\n\\nend\\n\\nend\\n\\nend\\n\\nend\\n\\nend\\n\\nend\\n\\nend\\n\\nend\\n\\nend\\n\\nend\\n\\nend\\n\\nend\\n\\nend\\n\\nend\\n\\nend\\n\\nend\\n\\nend\\n\\nend\\n\\nend\\n\\nend\\n\\nend\\n\\nend\\n\\nend\\n\\nend\\n\\nend\\n\\nend\\n\\nend\\n\\nend\\n\\nend\\n\\nend\\n\\nend\\n\\nend\\n\\nend\\n\\nend\\n\\nend\\n\\nend\\n\\nend', 'ground_truth': 'There is a coffee shop Blue Spice in the riverside area.'}\n"
     ]
    },
    {
     "name": "stderr",
     "output_type": "stream",
     "text": [
      "Setting `pad_token_id` to `eos_token_id`:50256 for open-end generation.\n"
     ]
    },
    {
     "name": "stdout",
     "output_type": "stream",
     "text": [
      "{'meaning_representation': 'name[Blue Spice], eatType[coffee shop], area[riverside]', 'output_text': 'name[Blue Spice], eatType[coffee shop], area[riverside] = \"blue\"\\n\\nif not area[riverside] then\\n\\nbreak\\n\\nend\\n\\nend\\n\\nend\\n\\nend\\n\\nend\\n\\nend\\n\\nend\\n\\nend\\n\\nend\\n\\nend\\n\\nend\\n\\nend\\n\\nend\\n\\nend\\n\\nend\\n\\nend\\n\\nend\\n\\nend\\n\\nend\\n\\nend\\n\\nend\\n\\nend\\n\\nend\\n\\nend\\n\\nend\\n\\nend\\n\\nend\\n\\nend\\n\\nend\\n\\nend\\n\\nend\\n\\nend\\n\\nend\\n\\nend\\n\\nend\\n\\nend\\n\\nend\\n\\nend', 'ground_truth': 'At the riverside, there is a coffee shop called The Blue Spice.'}\n"
     ]
    },
    {
     "name": "stderr",
     "output_type": "stream",
     "text": [
      "Setting `pad_token_id` to `eos_token_id`:50256 for open-end generation.\n"
     ]
    },
    {
     "name": "stdout",
     "output_type": "stream",
     "text": [
      "{'meaning_representation': 'name[Blue Spice], eatType[coffee shop], customer rating[5 out of 5], near[Crowne Plaza Hotel]', 'output_text': 'name[Blue Spice], eatType[coffee shop], customer rating[5 out of 5], near[Crowne Plaza Hotel]\\n\\n[Blue Spice], eatType[coffee shop], customer rating[5 out of 5], near[Crowne Plaza Hotel] [Blue Spice], eatType[coffee shop], customer rating[5 out of 5], near[Crowne Plaza Hotel] [Blue Spice], eatType[coffee shop], customer rating[5 out of 5], near[Crowne Plaza Hotel] [Blue Spice], eatType[coffee shop], customer rating[5 out of 5], near[Crowne Plaza Hotel] [Blue Spice], eatType[coffee shop], customer', 'ground_truth': 'The coffee shop Blue Spice is based near Crowne Plaza Hotel and has a high customer rating of 5 out of 5.'}\n"
     ]
    },
    {
     "name": "stderr",
     "output_type": "stream",
     "text": [
      "Setting `pad_token_id` to `eos_token_id`:50256 for open-end generation.\n"
     ]
    },
    {
     "name": "stdout",
     "output_type": "stream",
     "text": [
      "{'meaning_representation': 'name[Blue Spice], eatType[coffee shop], customer rating[5 out of 5], near[Crowne Plaza Hotel]', 'output_text': 'name[Blue Spice], eatType[coffee shop], customer rating[5 out of 5], near[Crowne Plaza Hotel]\\n\\n[Blue Spice], eatType[coffee shop], customer rating[5 out of 5], near[Crowne Plaza Hotel] [Blue Spice], eatType[coffee shop], customer rating[5 out of 5], near[Crowne Plaza Hotel] [Blue Spice], eatType[coffee shop], customer rating[5 out of 5], near[Crowne Plaza Hotel] [Blue Spice], eatType[coffee shop], customer rating[5 out of 5], near[Crowne Plaza Hotel] [Blue Spice], eatType[coffee shop], customer', 'ground_truth': 'The Blue Spice coffee shop, near Crowne Plaza Hotel, has a customer rating of 5 out of 5.'}\n"
     ]
    },
    {
     "name": "stderr",
     "output_type": "stream",
     "text": [
      "Setting `pad_token_id` to `eos_token_id`:50256 for open-end generation.\n"
     ]
    },
    {
     "name": "stdout",
     "output_type": "stream",
     "text": [
      "{'meaning_representation': 'name[Blue Spice], eatType[coffee shop], customer rating[5 out of 5], near[Crowne Plaza Hotel]', 'output_text': 'name[Blue Spice], eatType[coffee shop], customer rating[5 out of 5], near[Crowne Plaza Hotel]\\n\\n[Blue Spice], eatType[coffee shop], customer rating[5 out of 5], near[Crowne Plaza Hotel] [Blue Spice], eatType[coffee shop], customer rating[5 out of 5], near[Crowne Plaza Hotel] [Blue Spice], eatType[coffee shop], customer rating[5 out of 5], near[Crowne Plaza Hotel] [Blue Spice], eatType[coffee shop], customer rating[5 out of 5], near[Crowne Plaza Hotel] [Blue Spice], eatType[coffee shop], customer', 'ground_truth': 'If you want a coffee shop rated 5 out of 5 pick Blue Spice. It is located near Crowne Plaza Hotel.'}\n"
     ]
    },
    {
     "name": "stderr",
     "output_type": "stream",
     "text": [
      "Setting `pad_token_id` to `eos_token_id`:50256 for open-end generation.\n"
     ]
    },
    {
     "name": "stdout",
     "output_type": "stream",
     "text": [
      "{'meaning_representation': 'name[Blue Spice], eatType[coffee shop], customer rating[average], near[Burger King]', 'output_text': 'name[Blue Spice], eatType[coffee shop], customer rating[average], near[Burger King]\\n\\nThe following table lists the average rating of each of the three categories.\\n\\nAverage rating of the three categories\\n\\nAverage rating of the three categories\\n\\nAverage rating of the three categories\\n\\nAverage rating of the three categories\\n\\nAverage rating of the three categories\\n\\nAverage rating of the three categories\\n\\nAverage rating of the three categories\\n\\nAverage rating of the three categories\\n\\nAverage rating of the three categories\\n\\nAverage rating of the three categories\\n\\nAverage rating of the three categories\\n\\nAverage rating of the three categories\\n\\nAverage rating of the three categories\\n\\nAverage rating of the three', 'ground_truth': 'Burger King is near the coffee shop Blue Spice which has an average customer rating.'}\n"
     ]
    },
    {
     "name": "stderr",
     "output_type": "stream",
     "text": [
      "Setting `pad_token_id` to `eos_token_id`:50256 for open-end generation.\n"
     ]
    },
    {
     "name": "stdout",
     "output_type": "stream",
     "text": [
      "{'meaning_representation': 'name[Blue Spice], eatType[coffee shop], customer rating[average], near[Burger King]', 'output_text': 'name[Blue Spice], eatType[coffee shop], customer rating[average], near[Burger King]\\n\\nThe following table lists the average rating of each of the three categories.\\n\\nAverage rating of the three categories\\n\\nAverage rating of the three categories\\n\\nAverage rating of the three categories\\n\\nAverage rating of the three categories\\n\\nAverage rating of the three categories\\n\\nAverage rating of the three categories\\n\\nAverage rating of the three categories\\n\\nAverage rating of the three categories\\n\\nAverage rating of the three categories\\n\\nAverage rating of the three categories\\n\\nAverage rating of the three categories\\n\\nAverage rating of the three categories\\n\\nAverage rating of the three categories\\n\\nAverage rating of the three', 'ground_truth': 'The Blue Spice coffee shop near Burger King has good customer ratings with excellent food and service, with a lovely atmosphere.'}\n",
      "{'meaning_representation': 'name[Blue Spice], eatType[coffee shop], customer rating[average], near[Burger King]', 'output_text': 'name[Blue Spice], eatType[coffee shop], customer rating[average], near[Burger King]\\n\\nThe following table lists the average rating of each of the three categories.\\n\\nAverage rating of the three categories\\n\\nAverage rating of the three categories\\n\\nAverage rating of the three categories\\n\\nAverage rating of the three categories\\n\\nAverage rating of the three categories\\n\\nAverage rating of the three categories\\n\\nAverage rating of the three categories\\n\\nAverage rating of the three categories\\n\\nAverage rating of the three categories\\n\\nAverage rating of the three categories\\n\\nAverage rating of the three categories\\n\\nAverage rating of the three categories\\n\\nAverage rating of the three categories\\n\\nAverage rating of the three', 'ground_truth': 'Average customer rating coffee shop include Blue Spice near Burger King.'}\n"
     ]
    }
   ],
   "source": [
    "from transformers import GPT2LMHeadModel\n",
    "\n",
    "GPT2Model = GPT2LMHeadModel.from_pretrained('gpt2')\n",
    "\n",
    "for idx in range(10):\n",
    "    input_text = test_dataset[idx]['meaning_representation']\n",
    "    inputs = tokenizer(input_text, return_tensors=\"pt\")\n",
    "    \n",
    "    output_tokens = GPT2Model.generate(**inputs, max_length=150)\n",
    "    \n",
    "    output_text = tokenizer.decode(output_tokens[0], skip_special_tokens=True)\n",
    "    \n",
    "    print({\"meaning_representation\": input_text, \n",
    "           \"output_text\": output_text,\n",
    "           \"ground_truth\": test_dataset[idx]['human_reference']}\n",
    "         )"
   ]
  },
  {
   "cell_type": "code",
   "execution_count": 19,
   "id": "a835b2f2-36bb-45d5-b8ab-7387b26cc885",
   "metadata": {
    "tags": []
   },
   "outputs": [
    {
     "name": "stdout",
     "output_type": "stream",
     "text": [
      "{'meaning_representation': 'name[The Cricketers], eatType[coffee shop], customer rating[average], familyFriendly[yes], near[Café Sicilia]', 'output_text': 'name[The Cricketers], eatType[coffee shop], customer rating[average], familyFriendly[yes], near[Café Sicilia]The Cricketers are a café located in the city of Cagliari. They are a popular café for the customers who are looking for a good coffee. They are located in the city of Cagliari. They are a popular café', 'ground_truth': 'The Cricketers comes customer approved, they are located near Café Sicilia and offer family friendly dining.'}\n",
      "{'meaning_representation': 'name[Blue Spice], eatType[restaurant], food[English], area[riverside], familyFriendly[yes], near[Rainbow Vegetarian Café]', 'output_text': 'name[Blue Spice], eatType[restaurant], food[English], area[riverside], familyFriendly[yes], near[Rainbow Vegetarian Café]Blue Spice is a restaurant located in the city of Blue Springs. It is located in the city of Blue Springs. Blue Spice is a restaurant located in the city of Blue Springs. Blue Spice is a restaurant located in the city of Blue Springs. Blue', 'ground_truth': 'Situated near the Rainbow Vegetarian Café in the riverside area, is the family friendly restaurant Blue Spice. It serves English food.'}\n",
      "{'meaning_representation': 'name[The Phoenix], eatType[pub], food[French], priceRange[cheap], customer rating[5 out of 5], area[city centre], familyFriendly[no], near[Crowne Plaza Hotel]', 'output_text': 'name[The Phoenix], eatType[pub], food[French], priceRange[cheap], customer rating[5 out of 5], area[city centre], familyFriendly[no], near[Crowne Plaza Hotel]Address: 6th Floor, Suite 1, Suite 1, Suite 1, Suite 1, Suite 1, Suite 1, Suite 1, Suite 1, Suite 1, Suite 1, Suite 1, Suite 1, Suite 1, Suite 1, Suite 1', 'ground_truth': 'The French pub, The Phoenix, is located in the city centre near Crowne Plaza Hotel. They are adult oriented and have great reviews.'}\n",
      "{'meaning_representation': 'name[The Mill], eatType[restaurant], food[English], priceRange[more than £30], customer rating[high], area[city centre], familyFriendly[yes], near[Café Rouge]', 'output_text': 'name[The Mill], eatType[restaurant], food[English], priceRange[more than £30], customer rating[high], area[city centre], familyFriendly[yes], near[Café Rouge]Address: [the mill]Address: [the mill]Address: [the mill]Address: [the mill]Address: [the mill]Address: [the mill]Address: [the mill]Address: [the mill]Address:', 'ground_truth': 'The Mill offers Japanese food and restaurant with cheap price near Café Rouge in riverside.'}\n",
      "{'meaning_representation': 'name[The Mill], eatType[restaurant], food[English], priceRange[high], area[riverside], familyFriendly[yes], near[Raja Indian Cuisine]', 'output_text': 'name[The Mill], eatType[restaurant], food[English], priceRange[high], area[riverside], familyFriendly[yes], near[Raja Indian Cuisine]The Mill is a small restaurant located in the village of Raja. It is located in the village of Raja. It is a small restaurant located in the village of Raja. It is a small restaurant located in the village of Raja.', 'ground_truth': 'The Mill is a high priced restaurant, that offers English food and is kid friendly. It is located in the riverside area, near Raja Indian Cuisine.'}\n",
      "{'meaning_representation': 'name[The Cricketers], eatType[restaurant], customer rating[low], familyFriendly[yes], near[Ranch]', 'output_text': 'name[The Cricketers], eatType[restaurant], customer rating[low], familyFriendly[yes], near[Ranch]Food[no], foodType[restaurant], customer rating[low], familyFriendly[yes], near[Ranch]Food[no], foodType[restaurant], customer rating[low], familyFriendly[yes], near', 'ground_truth': 'The Cricketers is a child-friendly restaurant located near Ranch with a low customer rating.'}\n",
      "{'meaning_representation': 'name[The Cricketers], eatType[coffee shop], customer rating[3 out of 5], familyFriendly[yes], near[Avalon]', 'output_text': \"name[The Cricketers], eatType[coffee shop], customer rating[3 out of 5], familyFriendly[yes], near[Avalon]I'm a coffee shop owner. I'm a big fan of coffee and I love the taste of it. I've been here for over 10 years and I've never had a problem with it. I've never had any problems with the coffee.\", 'ground_truth': 'Located near Avalon, The Cricketers is a child friendly coffee shop with a customer rating 3 out of 5.'}\n",
      "{'meaning_representation': 'name[Wildwood], eatType[pub], area[riverside]', 'output_text': 'name[Wildwood], eatType[pub], area[riverside]Food[food], foodType[food], foodType[food], foodType[food], foodType[food], foodType[food], foodType[food], foodType[food], foodType[food], foodType[food], food', 'ground_truth': 'Wildwood is a pub located in riverside'}\n",
      "{'meaning_representation': 'name[Green Man], eatType[restaurant], food[Japanese], area[riverside], familyFriendly[no], near[Express by Holiday Inn]', 'output_text': 'name[Green Man], eatType[restaurant], food[Japanese], area[riverside], familyFriendly[no], near[Express by Holiday Inn]Food[Japanese], area[riverside], familyFriendly[no], near[Express by Holiday Inn]Food[Japanese], area[riverside], familyFriendly[no], near[Express by Holiday Inn]Food[Japanese],', 'ground_truth': \"Green Man is a restaurant serving Japanese food, it's located in the riverside area near Express by Holiday Inn and is not family-friendly.\"}\n",
      "{'meaning_representation': 'name[The Vaults], eatType[pub], food[Italian], priceRange[more than £30], customer rating[high], area[riverside], familyFriendly[yes], near[Rainbow Vegetarian Café]', 'output_text': 'name[The Vaults], eatType[pub], food[Italian], priceRange[more than £30], customer rating[high], area[riverside], familyFriendly[yes], near[Rainbow Vegetarian Café]Address: [email protected]Address: [email protected]Address: [email protected]Address: [email protected]Address: [email protected]Address: [email protected]Address: [email protected]Address: [email protected]Address:', 'ground_truth': 'The highly customer rated, child friendly pub located in Riverside near Rainbow Vegetarian Café called The Vaults has great Italian food and costs more than £30.'}\n",
      "{'meaning_representation': 'name[Clowns], eatType[pub], customer rating[5 out of 5], near[Crowne Plaza Hotel]', 'output_text': 'name[Clowns], eatType[pub], customer rating[5 out of 5], near[Crowne Plaza Hotel]Address:Clowns, NY 11201Phone: (718) 828-9000Email: [email protected]Website: www.clowns.comThe first time I saw the new Star Wars movie, I was so excited', 'ground_truth': 'Located near Crowne Plaza Hotel, The Clowns pub has a customer rating of 5 out of 5.'}\n",
      "{'meaning_representation': 'name[Clowns], eatType[coffee shop], customer rating[5 out of 5], near[Crowne Plaza Hotel]', 'output_text': 'name[Clowns], eatType[coffee shop], customer rating[5 out of 5], near[Crowne Plaza Hotel]Address:Clowns, NY(212) 542-9000Address:Clowns, NY(212) 542-9000\\n\\nCrowne Plaza Hotel\\n\\nCrowne Plaza Hotel is a coffee shop located in', 'ground_truth': 'For a coffee shop with a 5 out of 5 rating, check out Clowns near Crowne Plaza Hotel.'}\n",
      "{'meaning_representation': 'name[Green Man], eatType[restaurant], food[Japanese], area[riverside], familyFriendly[yes], near[Express by Holiday Inn]', 'output_text': 'name[Green Man], eatType[restaurant], food[Japanese], area[riverside], familyFriendly[yes], near[Express by Holiday Inn]Food[Japanese], area[riverside], familyFriendly[yes], near[Express by Holiday Inn]Food[Japanese], area[riverside], familyFriendly[yes], near[Express by Holiday Inn]Food[Japanese],', 'ground_truth': 'Green Man is a family restaurant but also with Japanese food its near to the Express by Holiday Inn'}\n",
      "{'meaning_representation': 'name[The Mill], eatType[pub], food[Fast food], priceRange[moderate], customer rating[1 out of 5], area[riverside], familyFriendly[yes], near[Café Sicilia]', 'output_text': 'name[The Mill], eatType[pub], food[Fast food], priceRange[moderate], customer rating[1 out of 5], area[riverside], familyFriendly[yes], near[Café Sicilia]Food is a very popular food in the area. It is served in a variety of dishes, from traditional Italian dishes to traditional Italian dishes. It is also served in a variety of different types of dishes. The Mill is a popular food in the area', 'ground_truth': 'Near Café Sicilia is a 1 star medium priced pub for families  called The Mill.'}\n",
      "{'meaning_representation': 'name[The Mill], eatType[restaurant], food[English], priceRange[less than £20], customer rating[low], area[riverside], familyFriendly[yes], near[Café Rouge]', 'output_text': 'name[The Mill], eatType[restaurant], food[English], priceRange[less than £20], customer rating[low], area[riverside], familyFriendly[yes], near[Café Rouge]Address: [Address: [Address: [Address: [Address: [Address: [Address: [Address: [Address: [Address: [Address: [Address: [Address: [Address: [Address: [Address: [Address:', 'ground_truth': 'The Mill is a family friendly restaurant in the low price range. It is located close to the city centre, near to Café Rouge'}\n",
      "{'meaning_representation': 'name[The Wrestlers], eatType[pub], food[Japanese], priceRange[less than £20], area[riverside], familyFriendly[yes], near[Raja Indian Cuisine]', 'output_text': 'name[The Wrestlers], eatType[pub], food[Japanese], priceRange[less than £20], area[riverside], familyFriendly[yes], near[Raja Indian Cuisine]Food[Japanese], priceRange[less than £20], area[riverside], familyFriendly[yes], near[Raja Indian Cuisine]Food[Japanese], priceRange[less than £20], area[riverside],', 'ground_truth': 'The riverside Japanese pub, The Wrestlers, is located near Raja Indian Cuisine and offers a family friendly environment with an under £20 price range.'}\n",
      "{'meaning_representation': 'name[Blue Spice], eatType[restaurant], food[English], area[riverside], familyFriendly[yes], near[Rainbow Vegetarian Café]', 'output_text': 'name[Blue Spice], eatType[restaurant], food[English], area[riverside], familyFriendly[yes], near[Rainbow Vegetarian Café]Blue Spice is a restaurant located in the city of Blue Springs. It is located in the city of Blue Springs. Blue Spice is a restaurant located in the city of Blue Springs. Blue Spice is a restaurant located in the city of Blue Springs. Blue', 'ground_truth': 'If you looking for children-friendly restaurant with English food go to Blue Spice near Rainbow Vegetarian Café.'}\n",
      "{'meaning_representation': 'name[Wildwood], eatType[restaurant], food[French], area[riverside], familyFriendly[yes], near[Raja Indian Cuisine]', 'output_text': 'name[Wildwood], eatType[restaurant], food[French], area[riverside], familyFriendly[yes], near[Raja Indian Cuisine]Wildwood is a French restaurant located in the French Quarter of Paris. It is located in the French Quarter of Paris. It is a small restaurant with a small menu. It is a small restaurant with a small menu. It is a small restaurant with', 'ground_truth': 'Wildwood is a child friendly French restaurant in riverside located near the Raja Indian Cuisine'}\n",
      "{'meaning_representation': 'name[The Mill], eatType[pub], food[Fast food], priceRange[cheap], customer rating[5 out of 5], area[city centre], familyFriendly[no], near[Café Sicilia]', 'output_text': 'name[The Mill], eatType[pub], food[Fast food], priceRange[cheap], customer rating[5 out of 5], area[city centre], familyFriendly[no], near[Café Sicilia]Food is a very popular food in the city centre. It is a popular food in the city centre. It is a popular food in the city centre. It is a popular food in the city centre. It is a popular food in the city centre', 'ground_truth': 'The Mill located near Café Sicilia serves cheap pub fast food.  It has a 5 out of 5 rating but not family-friendly.'}\n",
      "{'meaning_representation': 'name[Wildwood], eatType[coffee shop], area[riverside]', 'output_text': 'name[Wildwood], eatType[coffee shop], area[riverside]Food[coffee shop], area[riverside]Food[coffee shop], area[riverside]Food[coffee shop], area[riverside]Food[coffee shop], area[riverside]Food[', 'ground_truth': 'In the riverside area there is a coffee shop named Wildwood.'}\n"
     ]
    }
   ],
   "source": [
    "model_load = PromptTuningGPT2('gpt2', num_prompt_tokens=10)\n",
    "\n",
    "model_load.load_learned_prompts(save_path)\n",
    "model_load.to('cuda')\n",
    "\n",
    "import random\n",
    "sampled_idx = random.sample(range(0, len(test_dataset)), 20)\n",
    "                            \n",
    "for idx in sampled_idx:\n",
    "    input_text = test_dataset[idx]['meaning_representation']\n",
    "    # print(input_text)\n",
    "    inputs = tokenizer(input_text, return_tensors=\"pt\").to('cuda')\n",
    "    # print(inputs)\n",
    "    \n",
    "    for _ in range(50):\n",
    "        outputs = model_load(**inputs, labels=inputs['input_ids'])\n",
    "        logits = outputs.logits[0][-1,:]\n",
    "        probs = nn.functional.softmax(logits, dim=-1)\n",
    "        _, next_chr = torch.topk(probs, k=1, dim=-1)\n",
    "        inputs['input_ids'] = torch.cat((inputs['input_ids'], next_chr.unsqueeze(0)), dim=-1)\n",
    "        inputs['attention_mask'] = torch.cat((inputs['attention_mask'], torch.tensor([[1]]).to('cuda')), dim=-1)\n",
    "    \n",
    "    output_text = tokenizer.decode(inputs['input_ids'][0], skip_special_tokens=True)\n",
    "    print({\"meaning_representation\": input_text, \n",
    "           \"output_text\": output_text,\n",
    "           \"ground_truth\": test_dataset[idx]['human_reference']}\n",
    "         )\n"
   ]
  },
  {
   "cell_type": "code",
   "execution_count": null,
   "id": "c28f203d-025c-45d1-978c-0b82fd1f1348",
   "metadata": {},
   "outputs": [],
   "source": []
  }
 ],
 "metadata": {
  "kernelspec": {
   "display_name": "Python 3 (ipykernel)",
   "language": "python",
   "name": "python3"
  },
  "language_info": {
   "codemirror_mode": {
    "name": "ipython",
    "version": 3
   },
   "file_extension": ".py",
   "mimetype": "text/x-python",
   "name": "python",
   "nbconvert_exporter": "python",
   "pygments_lexer": "ipython3",
   "version": "3.10.13"
  }
 },
 "nbformat": 4,
 "nbformat_minor": 5
}
